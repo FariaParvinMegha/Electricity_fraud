{
  "nbformat": 4,
  "nbformat_minor": 0,
  "metadata": {
    "colab": {
      "provenance": [],
      "collapsed_sections": [
        "-3DGhgEMLt6Y",
        "njIMZekgFrac",
        "sjWbtNA1GXE0",
        "1UsDy0VMHtE7"
      ],
      "gpuType": "T4",
      "mount_file_id": "1EnqRWIAHIKLLrCdPVAOWU4GXB0Wtw2-s",
      "authorship_tag": "ABX9TyO4hKn76ze5bUS/Vt8zSl7y",
      "include_colab_link": true
    },
    "kernelspec": {
      "name": "python3",
      "display_name": "Python 3"
    },
    "language_info": {
      "name": "python"
    },
    "accelerator": "GPU"
  },
  "cells": [
    {
      "cell_type": "markdown",
      "metadata": {
        "id": "view-in-github",
        "colab_type": "text"
      },
      "source": [
        "<a href=\"https://colab.research.google.com/github/FariaParvinMegha/Electricity_fraud/blob/main/Electricity_fraud_detection.ipynb\" target=\"_parent\"><img src=\"https://colab.research.google.com/assets/colab-badge.svg\" alt=\"Open In Colab\"/></a>"
      ]
    },
    {
      "cell_type": "markdown",
      "source": [
        "# setting up environment"
      ],
      "metadata": {
        "id": "D7W5a8-zV2Ar"
      }
    },
    {
      "cell_type": "code",
      "execution_count": 1,
      "metadata": {
        "colab": {
          "base_uri": "https://localhost:8080/",
          "height": 1000
        },
        "id": "fHFIe-dzMCma",
        "outputId": "2851e106-fdc9-4cbf-ad69-19acc153050e"
      },
      "outputs": [
        {
          "output_type": "stream",
          "name": "stdout",
          "text": [
            "Requirement already satisfied: tensorflow==2.18.0 in /usr/local/lib/python3.11/dist-packages (2.18.0)\n",
            "Collecting keras==3.10.0\n",
            "  Downloading keras-3.10.0-py3-none-any.whl.metadata (6.0 kB)\n",
            "Collecting protobuf==5.29.1\n",
            "  Downloading protobuf-5.29.1-cp38-abi3-manylinux2014_x86_64.whl.metadata (592 bytes)\n",
            "Requirement already satisfied: absl-py>=1.0.0 in /usr/local/lib/python3.11/dist-packages (from tensorflow==2.18.0) (1.4.0)\n",
            "Requirement already satisfied: astunparse>=1.6.0 in /usr/local/lib/python3.11/dist-packages (from tensorflow==2.18.0) (1.6.3)\n",
            "Requirement already satisfied: flatbuffers>=24.3.25 in /usr/local/lib/python3.11/dist-packages (from tensorflow==2.18.0) (25.2.10)\n",
            "Requirement already satisfied: gast!=0.5.0,!=0.5.1,!=0.5.2,>=0.2.1 in /usr/local/lib/python3.11/dist-packages (from tensorflow==2.18.0) (0.6.0)\n",
            "Requirement already satisfied: google-pasta>=0.1.1 in /usr/local/lib/python3.11/dist-packages (from tensorflow==2.18.0) (0.2.0)\n",
            "Requirement already satisfied: libclang>=13.0.0 in /usr/local/lib/python3.11/dist-packages (from tensorflow==2.18.0) (18.1.1)\n",
            "Requirement already satisfied: opt-einsum>=2.3.2 in /usr/local/lib/python3.11/dist-packages (from tensorflow==2.18.0) (3.4.0)\n",
            "Requirement already satisfied: packaging in /usr/local/lib/python3.11/dist-packages (from tensorflow==2.18.0) (24.2)\n",
            "Requirement already satisfied: requests<3,>=2.21.0 in /usr/local/lib/python3.11/dist-packages (from tensorflow==2.18.0) (2.32.3)\n",
            "Requirement already satisfied: setuptools in /usr/local/lib/python3.11/dist-packages (from tensorflow==2.18.0) (75.2.0)\n",
            "Requirement already satisfied: six>=1.12.0 in /usr/local/lib/python3.11/dist-packages (from tensorflow==2.18.0) (1.17.0)\n",
            "Requirement already satisfied: termcolor>=1.1.0 in /usr/local/lib/python3.11/dist-packages (from tensorflow==2.18.0) (3.1.0)\n",
            "Requirement already satisfied: typing-extensions>=3.6.6 in /usr/local/lib/python3.11/dist-packages (from tensorflow==2.18.0) (4.14.0)\n",
            "Requirement already satisfied: wrapt>=1.11.0 in /usr/local/lib/python3.11/dist-packages (from tensorflow==2.18.0) (1.17.2)\n",
            "Requirement already satisfied: grpcio<2.0,>=1.24.3 in /usr/local/lib/python3.11/dist-packages (from tensorflow==2.18.0) (1.73.0)\n",
            "Requirement already satisfied: tensorboard<2.19,>=2.18 in /usr/local/lib/python3.11/dist-packages (from tensorflow==2.18.0) (2.18.0)\n",
            "Requirement already satisfied: numpy<2.1.0,>=1.26.0 in /usr/local/lib/python3.11/dist-packages (from tensorflow==2.18.0) (2.0.2)\n",
            "Requirement already satisfied: h5py>=3.11.0 in /usr/local/lib/python3.11/dist-packages (from tensorflow==2.18.0) (3.14.0)\n",
            "Requirement already satisfied: ml-dtypes<0.5.0,>=0.4.0 in /usr/local/lib/python3.11/dist-packages (from tensorflow==2.18.0) (0.4.1)\n",
            "Requirement already satisfied: tensorflow-io-gcs-filesystem>=0.23.1 in /usr/local/lib/python3.11/dist-packages (from tensorflow==2.18.0) (0.37.1)\n",
            "Requirement already satisfied: rich in /usr/local/lib/python3.11/dist-packages (from keras==3.10.0) (13.9.4)\n",
            "Requirement already satisfied: namex in /usr/local/lib/python3.11/dist-packages (from keras==3.10.0) (0.1.0)\n",
            "Requirement already satisfied: optree in /usr/local/lib/python3.11/dist-packages (from keras==3.10.0) (0.16.0)\n",
            "Requirement already satisfied: wheel<1.0,>=0.23.0 in /usr/local/lib/python3.11/dist-packages (from astunparse>=1.6.0->tensorflow==2.18.0) (0.45.1)\n",
            "Requirement already satisfied: charset-normalizer<4,>=2 in /usr/local/lib/python3.11/dist-packages (from requests<3,>=2.21.0->tensorflow==2.18.0) (3.4.2)\n",
            "Requirement already satisfied: idna<4,>=2.5 in /usr/local/lib/python3.11/dist-packages (from requests<3,>=2.21.0->tensorflow==2.18.0) (3.10)\n",
            "Requirement already satisfied: urllib3<3,>=1.21.1 in /usr/local/lib/python3.11/dist-packages (from requests<3,>=2.21.0->tensorflow==2.18.0) (2.4.0)\n",
            "Requirement already satisfied: certifi>=2017.4.17 in /usr/local/lib/python3.11/dist-packages (from requests<3,>=2.21.0->tensorflow==2.18.0) (2025.6.15)\n",
            "Requirement already satisfied: markdown>=2.6.8 in /usr/local/lib/python3.11/dist-packages (from tensorboard<2.19,>=2.18->tensorflow==2.18.0) (3.8)\n",
            "Requirement already satisfied: tensorboard-data-server<0.8.0,>=0.7.0 in /usr/local/lib/python3.11/dist-packages (from tensorboard<2.19,>=2.18->tensorflow==2.18.0) (0.7.2)\n",
            "Requirement already satisfied: werkzeug>=1.0.1 in /usr/local/lib/python3.11/dist-packages (from tensorboard<2.19,>=2.18->tensorflow==2.18.0) (3.1.3)\n",
            "Requirement already satisfied: markdown-it-py>=2.2.0 in /usr/local/lib/python3.11/dist-packages (from rich->keras==3.10.0) (3.0.0)\n",
            "Requirement already satisfied: pygments<3.0.0,>=2.13.0 in /usr/local/lib/python3.11/dist-packages (from rich->keras==3.10.0) (2.19.1)\n",
            "Requirement already satisfied: mdurl~=0.1 in /usr/local/lib/python3.11/dist-packages (from markdown-it-py>=2.2.0->rich->keras==3.10.0) (0.1.2)\n",
            "Requirement already satisfied: MarkupSafe>=2.1.1 in /usr/local/lib/python3.11/dist-packages (from werkzeug>=1.0.1->tensorboard<2.19,>=2.18->tensorflow==2.18.0) (3.0.2)\n",
            "Downloading keras-3.10.0-py3-none-any.whl (1.4 MB)\n",
            "\u001b[2K   \u001b[90m━━━━━━━━━━━━━━━━━━━━━━━━━━━━━━━━━━━━━━━━\u001b[0m \u001b[32m1.4/1.4 MB\u001b[0m \u001b[31m22.2 MB/s\u001b[0m eta \u001b[36m0:00:00\u001b[0m\n",
            "\u001b[?25hDownloading protobuf-5.29.1-cp38-abi3-manylinux2014_x86_64.whl (319 kB)\n",
            "\u001b[2K   \u001b[90m━━━━━━━━━━━━━━━━━━━━━━━━━━━━━━━━━━━━━━━━\u001b[0m \u001b[32m319.7/319.7 kB\u001b[0m \u001b[31m29.1 MB/s\u001b[0m eta \u001b[36m0:00:00\u001b[0m\n",
            "\u001b[?25hInstalling collected packages: protobuf, keras\n",
            "  Attempting uninstall: protobuf\n",
            "    Found existing installation: protobuf 5.29.5\n",
            "    Uninstalling protobuf-5.29.5:\n",
            "      Successfully uninstalled protobuf-5.29.5\n",
            "  Attempting uninstall: keras\n",
            "    Found existing installation: keras 3.8.0\n",
            "    Uninstalling keras-3.8.0:\n",
            "      Successfully uninstalled keras-3.8.0\n",
            "Successfully installed keras-3.10.0 protobuf-5.29.1\n"
          ]
        },
        {
          "output_type": "display_data",
          "data": {
            "application/vnd.colab-display-data+json": {
              "pip_warning": {
                "packages": [
                  "google"
                ]
              },
              "id": "09073e24ac4244aabaf00f1c261cc863"
            }
          },
          "metadata": {}
        },
        {
          "output_type": "stream",
          "name": "stdout",
          "text": [
            "Requirement already satisfied: imbalanced-learn in /usr/local/lib/python3.11/dist-packages (0.13.0)\n",
            "Requirement already satisfied: numpy<3,>=1.24.3 in /usr/local/lib/python3.11/dist-packages (from imbalanced-learn) (2.0.2)\n",
            "Requirement already satisfied: scipy<2,>=1.10.1 in /usr/local/lib/python3.11/dist-packages (from imbalanced-learn) (1.15.3)\n",
            "Requirement already satisfied: scikit-learn<2,>=1.3.2 in /usr/local/lib/python3.11/dist-packages (from imbalanced-learn) (1.6.1)\n",
            "Requirement already satisfied: sklearn-compat<1,>=0.1 in /usr/local/lib/python3.11/dist-packages (from imbalanced-learn) (0.1.3)\n",
            "Requirement already satisfied: joblib<2,>=1.1.1 in /usr/local/lib/python3.11/dist-packages (from imbalanced-learn) (1.5.1)\n",
            "Requirement already satisfied: threadpoolctl<4,>=2.0.0 in /usr/local/lib/python3.11/dist-packages (from imbalanced-learn) (3.6.0)\n"
          ]
        }
      ],
      "source": [
        "!pip install tensorflow==2.18.0 keras==3.10.0 protobuf==5.29.1\n",
        "!pip install -U imbalanced-learn"
      ]
    },
    {
      "cell_type": "code",
      "source": [
        "import tensorflow as tf\n",
        "print(tf.__version__)"
      ],
      "metadata": {
        "colab": {
          "base_uri": "https://localhost:8080/"
        },
        "id": "aDZ5aeCjPLwr",
        "outputId": "a02569d1-0768-47ef-bcb7-dc8280626731"
      },
      "execution_count": 2,
      "outputs": [
        {
          "output_type": "stream",
          "name": "stdout",
          "text": [
            "2.18.0\n"
          ]
        }
      ]
    },
    {
      "cell_type": "code",
      "source": [
        "\n",
        "import pandas as pd\n",
        "from sklearn.model_selection import train_test_split\n",
        "import matplotlib.pyplot as plt\n",
        "from sklearn.metrics import accuracy_score, mean_absolute_error, mean_squared_error, confusion_matrix, precision_recall_fscore_support, roc_auc_score\n",
        "from tensorflow import keras\n",
        "from tensorflow.python.keras import Sequential\n",
        "from tensorflow.python.keras.layers import Dense, Conv1D, Flatten, Conv2D\n",
        "from sklearn.linear_model import LogisticRegression\n",
        "from sklearn.ensemble import RandomForestClassifier\n",
        "from sklearn.tree import DecisionTreeClassifier\n",
        "from sklearn.svm import SVC\n",
        "import numpy as np\n",
        "import seaborn as sns\n",
        "import xgboost as xgb\n",
        "from sklearn.model_selection import GridSearchCV\n",
        "from imblearn.over_sampling import SMOTE\n",
        "from sklearn.preprocessing import MinMaxScaler\n",
        "from sklearn.ensemble import AdaBoostClassifier\n",
        "from sklearn.model_selection import train_test_split\n",
        "from sklearn.metrics import classification_report\n",
        "from tqdm import tqdm"
      ],
      "metadata": {
        "id": "AyyUTlBZUpUM"
      },
      "execution_count": 3,
      "outputs": []
    },
    {
      "cell_type": "markdown",
      "source": [
        "# Data Loading"
      ],
      "metadata": {
        "id": "K-C1pDy72bkL"
      }
    },
    {
      "cell_type": "code",
      "source": [
        "from google.colab import drive\n",
        "# drive.mount('/content/drive')\n",
        "rawData = pd.read_csv('/content/drive/MyDrive/electricity fraud detection/data.csv')\n",
        "# rawData = rawData.iloc[:, -30:]"
      ],
      "metadata": {
        "id": "uo7lPCAGUuzN"
      },
      "execution_count": 4,
      "outputs": []
    },
    {
      "cell_type": "code",
      "source": [
        "rawData.columns"
      ],
      "metadata": {
        "colab": {
          "base_uri": "https://localhost:8080/"
        },
        "id": "GHb58ai7ViTS",
        "outputId": "3447b30f-cafe-4444-bbe9-445ea736d187"
      },
      "execution_count": 5,
      "outputs": [
        {
          "output_type": "execute_result",
          "data": {
            "text/plain": [
              "Index(['CONS_NO', 'FLAG', '2014/1/1', '2014/1/10', '2014/1/11', '2014/1/12',\n",
              "       '2014/1/13', '2014/1/14', '2014/1/15', '2014/1/16',\n",
              "       ...\n",
              "       '2016/9/28', '2016/9/29', '2016/9/3', '2016/9/30', '2016/9/4',\n",
              "       '2016/9/5', '2016/9/6', '2016/9/7', '2016/9/8', '2016/9/9'],\n",
              "      dtype='object', length=1036)"
            ]
          },
          "metadata": {},
          "execution_count": 5
        }
      ]
    },
    {
      "cell_type": "markdown",
      "source": [
        "# Data Preprocessing"
      ],
      "metadata": {
        "id": "elZqfAAv2zAy"
      }
    },
    {
      "cell_type": "code",
      "source": [
        "\n",
        "# rawData = rawData.iloc[:, :2].join(rawData.iloc[:, -30:])\n",
        "# rawData.columns.values[-30:] = [f\"day{i}\" for i in range(1, 31)]\n",
        "\n",
        "# Extract label and ID columns\n",
        "infoData = pd.DataFrame()\n",
        "infoData['FLAG'] = rawData['FLAG']\n",
        "infoData['CONS_NO'] = rawData['CONS_NO']\n",
        "# Remove label and ID from feature data\n",
        "data = rawData.drop(['FLAG', 'CONS_NO'], axis=1)\n",
        "\n",
        "dropIndex = data[data.duplicated()].index  # duplicates drop\n",
        "data = data.drop(dropIndex, axis=0)\n",
        "infoData = infoData.drop(dropIndex, axis=0)\n",
        "\n",
        "zeroIndex = data[(data.sum(axis=1) == 0)].index  # zero rows drop\n",
        "data = data.drop(zeroIndex, axis=0)\n",
        "infoData = infoData.drop(zeroIndex, axis=0)\n",
        "\n",
        "# data.columns = pd.to_datetime(data.columns)  # columns reindexing according to dates\n",
        "# data = data.reindex(sorted(data.columns), axis=1)\n",
        "cols = data.columns\n",
        "\n",
        "data.reset_index(inplace=True, drop=True)  # index sorting\n",
        "infoData.reset_index(inplace=True, drop=True)\n",
        "\n",
        "data = data.interpolate(method='linear', limit=2,  # filling NaN values\n",
        "                        limit_direction='both', axis=0).fillna(0)\n",
        "\n",
        "for i in range(data.shape[0]):  # outliers treatment\n",
        "    m = data.loc[i].mean()\n",
        "    st = data.loc[i].std()\n",
        "    data.loc[i] = data.loc[i].mask(data.loc[i] > (m + 3 * st), other=m + 3 * st)\n",
        "\n",
        "data.to_csv(r'visualization.csv', index=False, header=True)  # preprocessed data without scaling\n",
        "# data.to_csv('/content/drive/MyDrive/python/visulaization.csv', index=False)\n",
        "\n",
        "scale = MinMaxScaler()\n",
        "scaled = scale.fit_transform(data.values.T).T\n",
        "mData = pd.DataFrame(data=scaled, columns=data.columns)\n",
        "# print(mData)\n",
        "preprData = pd.concat([infoData, mData], axis=1, sort=False)  # Back to initial format\n",
        "print(preprData)\n",
        "# preprData.to_csv(r'preprocessedR.csv', index=False, header=True)\n",
        "# preprData.to_csv('/content/drive/MyDrive/electricity fraud detection/preprocessed_data.csv', index=False, header=True)"
      ],
      "metadata": {
        "id": "sV7QRYoGVvFT",
        "colab": {
          "base_uri": "https://localhost:8080/"
        },
        "outputId": "77c9f5bd-94b8-4caa-ef4a-e660efea570c"
      },
      "execution_count": 6,
      "outputs": [
        {
          "output_type": "stream",
          "name": "stdout",
          "text": [
            "       FLAG                           CONS_NO  2014/1/1  2014/1/10  2014/1/11  \\\n",
            "0         1  0387DD8A07E07FDA6271170F86AD9151  0.000000   0.000000   0.000000   \n",
            "1         1  4B75AC4F2D8434CFF62DB64D0BB43103  0.108235   0.127642   0.142198   \n",
            "2         1  B32AC8CC6D5D805AC053557AB05F5343  0.077443   0.091330   0.101744   \n",
            "3         1  EDFC78B07BA2908B3395C4EB2304665E  0.111323   0.131284   0.146255   \n",
            "4         1  6BCFD78138BC72A9BA1BFB0B79382192  0.141255   0.185367   0.199915   \n",
            "...     ...                               ...       ...        ...        ...   \n",
            "40251     0  F1472871E1AFF49D4289564B6377D76C  0.330066   0.272880   0.741561   \n",
            "40252     0  F3C8BBCD2DC26C1E0249DEEF6A4256B7  0.275157   0.447385   0.402545   \n",
            "40253     0  A9A0FE83467A680FBFB0DBFC910DF227  0.078565   0.113784   0.218086   \n",
            "40254     0  D9A6ADA018FA46A55D5438370456AA45  0.417892   0.342429   0.334017   \n",
            "40255     0  F3406636BAD1E6E0826E8EDDC9A1BF00  0.444454   0.364194   0.355247   \n",
            "\n",
            "       2014/1/12  2014/1/13  2014/1/14  2014/1/15  2014/1/16  ...  2016/9/28  \\\n",
            "0       0.000000   0.000000   0.000000   0.000000   0.000000  ...   0.276942   \n",
            "1       0.170936   0.132867   0.158620   0.144064   0.131748  ...   0.310149   \n",
            "2       0.122307   0.095068   0.113494   0.103080   0.094267  ...   0.173580   \n",
            "3       0.175813   0.136658   0.163145   0.148174   0.135506  ...   0.682138   \n",
            "4       0.238866   0.229011   0.232765   0.186775   0.190060  ...   0.264676   \n",
            "...          ...        ...        ...        ...        ...  ...        ...   \n",
            "40251   0.451588   0.479560   0.463087   0.501626   0.431386  ...   0.396266   \n",
            "40252   0.000000   0.000000   0.000000   0.000000   0.000000  ...   0.490187   \n",
            "40253   0.121911   0.081274   0.111075   0.120557   0.004064  ...   1.000000   \n",
            "40254   0.361233   0.357769   0.305316   0.380285   0.420862  ...   0.522799   \n",
            "40255   0.384193   0.380509   0.324722   0.404456   0.447612  ...   0.073681   \n",
            "\n",
            "       2016/9/29  2016/9/3  2016/9/30  2016/9/4  2016/9/5  2016/9/6  2016/9/7  \\\n",
            "0       0.272564  0.463030   0.207980  0.744898  0.493953  0.724374  0.513110   \n",
            "1       0.372290  0.535575   0.488736  1.000000  0.683372  0.766227  0.589133   \n",
            "2       0.266779  0.314580   0.496438  0.715683  0.495904  0.389620  0.342353   \n",
            "3       0.398074  0.588090   0.518609  0.469474  0.563522  0.627629  0.696342   \n",
            "4       0.518090  0.292833   0.293772  0.394199  0.303158  0.361349  0.260922   \n",
            "...          ...       ...        ...       ...       ...       ...       ...   \n",
            "40251   0.331931  0.315148   0.409320  0.346849  0.351511  0.369227  0.339390   \n",
            "40252   0.496302  0.456557   0.374010  0.337322  0.466748  0.339360  0.325093   \n",
            "40253   0.089402  0.395534   0.319679  0.522864  0.579756  0.456490  0.903498   \n",
            "40254   0.340203  0.559417   0.465892  0.631416  0.448078  0.477768  0.432490   \n",
            "40255   0.117100  0.257883   0.134468  0.439191  0.316828  0.260515  0.216569   \n",
            "\n",
            "       2016/9/8  2016/9/9  \n",
            "0      0.488207  0.408298  \n",
            "1      0.694382  0.575510  \n",
            "2      0.517268  0.425137  \n",
            "3      0.706706  0.664480  \n",
            "4      0.333192  0.238396  \n",
            "...         ...       ...  \n",
            "40251  0.317013  0.408387  \n",
            "40252  0.465729  0.407640  \n",
            "40253  0.330515  0.155776  \n",
            "40254  0.425563  0.378058  \n",
            "40255  0.225253  0.259462  \n",
            "\n",
            "[40256 rows x 1036 columns]\n"
          ]
        }
      ]
    },
    {
      "cell_type": "markdown",
      "source": [
        "# Data Balancing"
      ],
      "metadata": {
        "id": "mU-3KXzp2iE_"
      }
    },
    {
      "cell_type": "code",
      "source": [
        "# Drop the 'CONS_NO' column\n",
        "preprData = preprData.drop('CONS_NO', axis=1)\n",
        "\n",
        "# Apply SMOTE for data balancing\n",
        "X = preprData.drop('FLAG', axis=1)  # Features\n",
        "y = preprData['FLAG']  # Target (labels)\n",
        "\n",
        "# Instantiate SMOTE to balance the minority class (FLAG = 1)\n",
        "smote = SMOTE()\n",
        "\n",
        "# Resampling the data to balance classes\n",
        "X_resampled, y_resampled = smote.fit_resample(X, y)\n",
        "\n",
        "# Split the resampled data into training and testing sets\n",
        "X_train, X_test, y_train, y_test = train_test_split(X_resampled, y_resampled, test_size=0.3, random_state=42)\n",
        "\n",
        "# Split the resampled data into training and testing sets\n",
        "X_train, X_test, y_train, y_test = train_test_split(X_resampled, y_resampled, test_size=0.3, random_state=42)\n",
        "\n",
        "# class AdaBoostClassifierWithProgress(AdaBoostClassifier):\n",
        "#     def fit(self, X, y):\n",
        "#         self.n_estimators_ = self.n_estimators\n",
        "#         self.staged_predict_proba_ = []\n",
        "#         self.progress_bar = tqdm(total=self.n_estimators, desc=\"Training AdaBoost\", ncols=100)\n",
        "\n",
        "#         super().fit(X, y)\n",
        "\n",
        "#         self.progress_bar.close()\n",
        "#         return self\n",
        "\n",
        "#     def _boost(self, iboost, X, y, sample_weight, random_state):\n",
        "#         self.progress_bar.update(1)\n",
        "#         return super()._boost(iboost, X, y, sample_weight, random_state)\n",
        "\n",
        "# # Instantiate the customized AdaBoost classifier with progress tracking\n",
        "# adaBoost = AdaBoostClassifierWithProgress(n_estimators=100, random_state=42)\n",
        "\n",
        "# # Train the classifier on the balanced data\n",
        "# adaBoost.fit(X_train, y_train)\n",
        "\n",
        "# # Make predictions on the test data\n",
        "# y_pred = adaBoost.predict(X_test)\n",
        "\n",
        "# # Evaluate the classifier performance\n",
        "# print(classification_report(y_test, y_pred))\n",
        "\n",
        "# Combine the resampled data into a DataFrame\n",
        "balancedData = pd.concat([pd.DataFrame(y_resampled, columns=['FLAG']), pd.DataFrame(X_resampled, columns=X.columns)], axis=1)\n",
        "\n",
        "# Save the balanced data\n",
        "balancedData.to_csv(r'balanced_preprocessedR.csv', index=False, header=True)\n",
        "# balancedData.to_csv('/content/drive/MyDrive/electricity fraud detection/balanced_preprocessedR.csv', index=False, header=True)\n"
      ],
      "metadata": {
        "id": "Cos89msj2X_c"
      },
      "execution_count": 7,
      "outputs": []
    },
    {
      "cell_type": "markdown",
      "source": [
        "# Model training"
      ],
      "metadata": {
        "id": "n54ZCwkaBDNj"
      }
    },
    {
      "cell_type": "markdown",
      "source": [
        "Parameters"
      ],
      "metadata": {
        "id": "Qv9h1UVXBMCr"
      }
    },
    {
      "cell_type": "code",
      "source": [
        "tf.random.set_seed(1234)\n",
        "epochs_number = 10  # number of epochs for the neural networks\n",
        "test_set_size = 0.1  # percentage of the test size comparing to the whole dataset\n",
        "oversampling_flag = 0  # set to 1 to over-sample the minority class\n",
        "oversampling_percentage = 0.2  # percentage of the minority class after the oversampling comparing to majority class\n"
      ],
      "metadata": {
        "id": "xhTVQzxWAztK"
      },
      "execution_count": 8,
      "outputs": []
    },
    {
      "cell_type": "code",
      "source": [
        "# Definition of functions\n",
        "def read_data():\n",
        "    rawData = pd.read_csv('balanced_preprocessedR.csv')\n",
        "\n",
        "    # Setting the target and dropping the unnecessary columns\n",
        "    y = rawData[['FLAG']]\n",
        "    X = rawData.drop(['FLAG'], axis=1)\n",
        "\n",
        "    print('Normal Consumers:                    ', y[y['FLAG'] == 0].count()[0])\n",
        "    print('Consumers with Fraud:                ', y[y['FLAG'] == 1].count()[0])\n",
        "    print('Total Consumers:                     ', y.shape[0])\n",
        "    print(\"Classification assuming no fraud:     %.2f\" % (y[y['FLAG'] == 0].count()[0] / y.shape[0] * 100), \"%\")\n",
        "\n",
        "    # columns reindexing according to dates\n",
        "    # X.columns = pd.to_datetime(X.columns)\n",
        "    # X = X.reindex(X.columns, axis=1)\n",
        "\n",
        "    # Splitting the dataset into training set and test set\n",
        "    X_train, X_test, y_train, y_test = train_test_split(X, y['FLAG'], test_size=test_set_size, random_state=0)\n",
        "    print(\"Test set assuming no fraud:           %.2f\" % (y_test[y_test == 0].count() / y_test.shape[0] * 100), \"%\\n\")\n",
        "\n",
        "    return X_train, X_test, y_train, y_test"
      ],
      "metadata": {
        "id": "YxeTGwnoBWZX"
      },
      "execution_count": 9,
      "outputs": []
    },
    {
      "cell_type": "markdown",
      "source": [
        "# Models"
      ],
      "metadata": {
        "id": "La1RsXVKBpo7"
      }
    },
    {
      "cell_type": "markdown",
      "source": [
        "# ANN\n"
      ],
      "metadata": {
        "id": "-3DGhgEMLt6Y"
      }
    },
    {
      "cell_type": "code",
      "source": [
        "from tensorflow.keras.models import Sequential\n",
        "from tensorflow.keras.layers import Dense\n",
        "\n",
        "def ANN(X_train, X_test, y_train, y_test):\n",
        "    print('Artificial Neural Network:')\n",
        "    save_folder='/content/drive/MyDrive/electricity fraud detection/resultsImages'\n",
        "\n",
        "    # ✅ Ensure proper array format\n",
        "    X_train = np.asarray(X_train).astype(np.float32)\n",
        "    X_test = np.asarray(X_test).astype(np.float32)\n",
        "    y_train = np.asarray(y_train).astype(np.float32)\n",
        "    y_test = np.asarray(y_test).astype(np.float32)\n",
        "\n",
        "    # ✅ Reshape labels to match binary output\n",
        "    if len(y_train.shape) == 1:\n",
        "        y_train = y_train.reshape(-1, 1)\n",
        "    if len(y_test.shape) == 1:\n",
        "        y_test = y_test.reshape(-1, 1)\n",
        "\n",
        "    # ✅ Check input shape\n",
        "    input_dim = X_train.shape[1]\n",
        "\n",
        "    # ✅ Build model\n",
        "    model = Sequential()\n",
        "    model.add(Dense(1000, input_dim=input_dim, activation='relu'))\n",
        "    model.add(Dense(100, activation='relu'))\n",
        "    model.add(Dense(100, activation='relu'))\n",
        "    model.add(Dense(100, activation='relu'))\n",
        "    model.add(Dense(10, activation='relu'))\n",
        "    model.add(Dense(1, activation='sigmoid'))\n",
        "\n",
        "    model.compile(loss=keras.losses.binary_crossentropy, optimizer='adam', metrics=['accuracy'])\n",
        "\n",
        "\n",
        "    # ✅ Train model\n",
        "    history = model.fit(\n",
        "        X_train,\n",
        "        y_train,\n",
        "        validation_split=0.1,\n",
        "        epochs=epochs_number,\n",
        "        shuffle=True,\n",
        "        verbose=1\n",
        "    )\n",
        "\n",
        "    # ✅ Predict and evaluate\n",
        "    prediction = (model.predict(X_test) > 0.5).astype(\"int32\")\n",
        "    model.summary()\n",
        "\n",
        "    # ✅ Call results function\n",
        "    results(y_test, prediction, history = history, model=model, model_name = 'ANN', save_folder = save_folder)"
      ],
      "metadata": {
        "id": "WG4XJteGLtpz"
      },
      "execution_count": 16,
      "outputs": []
    },
    {
      "cell_type": "markdown",
      "source": [
        "# 1D CNN"
      ],
      "metadata": {
        "id": "xRd2wIitEy-T"
      }
    },
    {
      "cell_type": "code",
      "source": [
        "from tensorflow.keras.models import Sequential\n",
        "from tensorflow.keras.layers import Conv1D, Flatten, Dense\n",
        "from tensorflow.keras import losses\n",
        "import numpy as np\n",
        "\n",
        "def CNN1D(X_train, X_test, y_train, y_test, epochs_number=10):\n",
        "    print('1D - Convolutional Neural Network:')\n",
        "    save_folder='/content/drive/MyDrive/electricity fraud detection/resultsImages'\n",
        "\n",
        "    # Convert to numpy arrays if needed\n",
        "    if hasattr(X_train, \"to_numpy\"):\n",
        "        X_train = X_train.to_numpy()\n",
        "    if hasattr(X_test, \"to_numpy\"):\n",
        "        X_test = X_test.to_numpy()\n",
        "\n",
        "    X_train = X_train.reshape(X_train.shape[0], X_train.shape[1], 1).astype(np.float32)\n",
        "    X_test = X_test.reshape(X_test.shape[0], X_test.shape[1], 1).astype(np.float32)\n",
        "\n",
        "    y_train = np.asarray(y_train).astype(np.float32).reshape(-1, 1)\n",
        "    y_test = np.asarray(y_test).astype(np.float32).reshape(-1, 1)\n",
        "\n",
        "    # Model definition\n",
        "    model = Sequential()\n",
        "    model.add(Conv1D(100, kernel_size=7, input_shape=(X_train.shape[1], 1), activation='relu'))\n",
        "    model.add(Flatten())\n",
        "    model.add(Dense(100, activation='relu'))\n",
        "    model.add(Dense(100, activation='relu'))\n",
        "    model.add(Dense(64, activation='relu'))\n",
        "    model.add(Dense(1, activation='sigmoid'))\n",
        "\n",
        "    model.compile(loss='binary_crossentropy', optimizer='adam', metrics=['accuracy'])\n",
        "\n",
        "    # ✅ Fit model and capture history\n",
        "    history = model.fit(\n",
        "        X_train,\n",
        "        y_train,\n",
        "        epochs=epochs_number,\n",
        "        validation_split=0.1,\n",
        "        shuffle=True,\n",
        "        verbose=1\n",
        "    )\n",
        "\n",
        "    # ✅ Make predictions\n",
        "    prediction = (model.predict(X_test) > 0.5).astype(\"int32\")\n",
        "\n",
        "    # saving the model\n",
        "    # ✅ Evaluate using shared results() function\n",
        "    results(\n",
        "        y_test=y_test,\n",
        "        prediction=prediction,\n",
        "        history=history,\n",
        "        model=model,\n",
        "        model_name='CNN1D',\n",
        "        save_folder=save_folder\n",
        "    )\n",
        "    model.summary()\n",
        "    return model\n"
      ],
      "metadata": {
        "id": "CF-9PezybC0_"
      },
      "execution_count": 28,
      "outputs": []
    },
    {
      "cell_type": "markdown",
      "source": [
        "# 2D CNN"
      ],
      "metadata": {
        "id": "njIMZekgFrac"
      }
    },
    {
      "cell_type": "code",
      "source": [
        "from tensorflow.keras.models import Sequential\n",
        "from tensorflow.keras.layers import Conv2D, Flatten, Dense\n",
        "import numpy as np\n",
        "def CNN2D(X_train, X_test, y_train, y_test):\n",
        "    print('2D - Convolutional Neural Network:')\n",
        "    save_folder='/content/drive/MyDrive/electricity fraud detection/resultsImages'\n",
        "\n",
        "    # Transforming every row of the train set into a 2D array and then into a tensor\n",
        "    n_array_X_train = X_train.to_numpy()\n",
        "    n_array_X_train_extended = np.hstack((n_array_X_train, np.zeros(\n",
        "        (n_array_X_train.shape[0], 2))))  # adding two empty columns in order to make the number of columns\n",
        "    # an exact multiple of 7\n",
        "    week = []\n",
        "    for i in range(n_array_X_train_extended.shape[0]):\n",
        "        a = np.reshape(n_array_X_train_extended[i], (-1, 7, 1))\n",
        "        week.append(a)\n",
        "    X_train_reshaped = np.array(week)\n",
        "\n",
        "    # Transforming every row of the train set into a 2D array and then into a tensor\n",
        "    n_array_X_test = X_test.to_numpy()  # X_test to 2D - array\n",
        "    n_array_X_train_extended = np.hstack((n_array_X_test, np.zeros((n_array_X_test.shape[0], 2))))\n",
        "    week2 = []\n",
        "    for i in range(n_array_X_train_extended.shape[0]):\n",
        "        b = np.reshape(n_array_X_train_extended[i], (-1, 7, 1))\n",
        "        week2.append(b)\n",
        "    X_test_reshaped = np.array(week2)\n",
        "\n",
        "    input_shape = (1, 148, 7, 1)  # input shape of the tensor\n",
        "\n",
        "    # Model creation\n",
        "    model = Sequential()\n",
        "    model.add(Conv2D(kernel_size=(7, 3), filters=32, input_shape=input_shape[1:], activation='relu',\n",
        "                     data_format='channels_last'))\n",
        "    model.add(Flatten())\n",
        "    model.add(Dense(100, activation='relu'))\n",
        "    model.add(Dense(100, activation='relu'))\n",
        "    model.add(Dense(64, activation='relu'))\n",
        "    model.add(Dense(1, activation='sigmoid'))\n",
        "\n",
        "    model.compile(loss=keras.losses.binary_crossentropy,\n",
        "                  optimizer='adam',\n",
        "                  metrics=['accuracy'])\n",
        "\n",
        "    # Fit model and track history\n",
        "    history = model.fit(\n",
        "        X_train_reshaped,\n",
        "        y_train,\n",
        "        validation_split=0.1,\n",
        "        epochs=epochs_number,\n",
        "        shuffle=True,\n",
        "        verbose=1\n",
        "    )\n",
        "\n",
        "    # Predict and reshape\n",
        "    prediction = (model.predict(X_test_reshaped) > 0.5).astype(\"int32\")\n",
        "    model.summary()\n",
        "\n",
        "    # saving the model\n",
        "    # Evaluate using results() with history\n",
        "    results(\n",
        "        y_test=y_test,\n",
        "        prediction=prediction,\n",
        "        history=history,\n",
        "        model=model,\n",
        "        model_name='CNN2D',\n",
        "        save_folder=save_folder\n",
        "    )\n",
        "\n",
        "    return model"
      ],
      "metadata": {
        "id": "t1EQUl-qFtR4"
      },
      "execution_count": 32,
      "outputs": []
    },
    {
      "cell_type": "markdown",
      "source": [
        "# Logistic Regression"
      ],
      "metadata": {
        "id": "rPor2f6ZF8Q0"
      }
    },
    {
      "cell_type": "code",
      "source": [
        "from sklearn.linear_model import LogisticRegression\n",
        "import numpy as np\n",
        "import joblib\n",
        "def LR(X_train, X_test, y_train, y_test):\n",
        "    print('Logistic Regression:')\n",
        "    save_folder='/content/drive/MyDrive/electricity fraud detection/resultsImages'\n",
        "    '''\n",
        "    # Parameters selection\n",
        "    param_grid = {'C': [0.1,1,10,100],'solver': ['newton-cg', 'lbfgs']}\n",
        "    grid = GridSearchCV(LogisticRegression(max_iter=1000,random_state=0), param_grid=param_grid, n_jobs=-1)\n",
        "    grid.fit(X_train, y_train)\n",
        "    df = pd.DataFrame(grid.cv_results_)\n",
        "    print(df[['param_C', 'param_solver', 'mean_test_score', 'rank_test_score']])\n",
        "    '''\n",
        "    model = LogisticRegression(C=1000, max_iter=1000, n_jobs=-1, solver='newton-cg')\n",
        "    model.fit(X_train, y_train)\n",
        "    prediction = model.predict(X_test)\n",
        "    # saving the model\n",
        "    results(y_test, prediction, model = model, model_name = 'LR', save_folder=save_folder)"
      ],
      "metadata": {
        "id": "fkosL8Z1F_J4"
      },
      "execution_count": 35,
      "outputs": []
    },
    {
      "cell_type": "markdown",
      "source": [
        "# decision Tree"
      ],
      "metadata": {
        "id": "sjWbtNA1GXE0"
      }
    },
    {
      "cell_type": "code",
      "source": [
        "from sklearn.tree import DecisionTreeClassifier\n",
        "import joblib\n",
        "def DT(X_train, X_test, y_train, y_test):\n",
        "    print('Decision Tree:')\n",
        "    save_folder='/content/drive/MyDrive/electricity fraud detection/resultsImages'\n",
        "    model = DecisionTreeClassifier(max_depth=15, min_samples_split=10, random_state=0)\n",
        "    model.fit(X_train, y_train)\n",
        "    prediction = model.predict(X_test)\n",
        "    # saving the model\n",
        "    results(y_test, prediction, model = model, model_name = 'DT', save_folder=save_folder)"
      ],
      "metadata": {
        "id": "sHTg8lmFGZEY"
      },
      "execution_count": 44,
      "outputs": []
    },
    {
      "cell_type": "markdown",
      "source": [
        "# Random forest"
      ],
      "metadata": {
        "id": "u1JDiZ_GGfCk"
      }
    },
    {
      "cell_type": "code",
      "source": [
        "import joblib\n",
        "from sklearn.ensemble import RandomForestClassifier\n",
        "from sklearn.decomposition import PCA\n",
        "from sklearn.metrics import accuracy_score, mean_squared_error, mean_absolute_error, precision_recall_fscore_support, roc_auc_score, confusion_matrix\n",
        "from sklearn.model_selection import RandomizedSearchCV\n",
        "import matplotlib.pyplot as plt\n",
        "import seaborn as sns\n",
        "def RF(X_train, X_test, y_train, y_test):\n",
        "    save_folder='/content/drive/MyDrive/electricity fraud detection/resultsImages'\n",
        "    # Reduce dimensionality with PCA (adjust n_components based on your dataset)\n",
        "    pca = PCA(n_components=10)  # Change n_components to fit your data\n",
        "    X_train_pca = pca.fit_transform(X_train)\n",
        "    X_test_pca = pca.transform(X_test)\n",
        "\n",
        "    # Parameter grid for RandomizedSearchCV\n",
        "    param_dist = {\n",
        "        'n_estimators': [50, 100],               # Fewer trees for faster performance\n",
        "        'max_depth': [5, 10, None],              # Limit tree depth\n",
        "        'min_samples_split': [2, 10],            # Minimum samples to split a node\n",
        "        'min_samples_leaf': [1, 5],              # Minimum samples at a leaf node\n",
        "        'max_features': ['sqrt', 'log2']         # Use 'sqrt' or 'log2' for feature selection\n",
        "    }\n",
        "\n",
        "    # Instantiate the RandomForestClassifier\n",
        "    model = RandomForestClassifier(random_state=0, n_jobs=-1)\n",
        "\n",
        "    # Use RandomizedSearchCV to tune hyperparameters quickly\n",
        "    random_search = RandomizedSearchCV(model, param_distributions=param_dist, n_iter=10, cv=3, random_state=0, n_jobs=-1)\n",
        "    random_search.fit(X_train_pca, y_train)\n",
        "\n",
        "    # Get the best estimator\n",
        "    best_model = random_search.best_estimator_\n",
        "\n",
        "    # Train the model with the best hyperparameters\n",
        "    best_model.fit(X_train_pca, y_train)\n",
        "\n",
        "    # Predict using the test data\n",
        "    prediction = best_model.predict(X_test_pca)\n",
        "    # Evaluate the results using the results function\n",
        "    results(y_test, prediction, model = best_model, model_name = 'RF', save_folder=save_folder)\n",
        "\n",
        "    # Return the best model\n",
        "    return best_model"
      ],
      "metadata": {
        "id": "P8wQYO6TGjG7"
      },
      "execution_count": 47,
      "outputs": []
    },
    {
      "cell_type": "markdown",
      "source": [
        "# XGBoost"
      ],
      "metadata": {
        "id": "0iz6JwuxGxm4"
      }
    },
    {
      "cell_type": "code",
      "source": [
        "import joblib\n",
        "from xgboost import XGBClassifier\n",
        "def XGB(X_train, X_test, y_train, y_test):\n",
        "    save_folder='/content/drive/MyDrive/electricity fraud detection/resultsImages'\n",
        "    # declare parameters\n",
        "    params = {\n",
        "                'objective':'binary:logistic',\n",
        "                'max_depth': 4,\n",
        "                'alpha': 10,\n",
        "                'learning_rate': 1.0,\n",
        "                'n_estimators':100\n",
        "            }\n",
        "    # instantiate the classifier\n",
        "    model = XGBClassifier(**params)\n",
        "    model.fit(X_train, y_train)\n",
        "    prediction = model.predict(X_test)\n",
        "    results(y_test, prediction, model = model, model_name = 'XGB', save_folder=save_folder)\n",
        "\n",
        "    return model\n",
        "# fit the classifier to the training data\n",
        "# xgb_clf.fit(X_train, y_train)"
      ],
      "metadata": {
        "id": "RLZTIlBXGuqn"
      },
      "execution_count": 50,
      "outputs": []
    },
    {
      "cell_type": "markdown",
      "source": [
        "# Results"
      ],
      "metadata": {
        "id": "lGXSev68G-HS"
      }
    },
    {
      "cell_type": "markdown",
      "source": [
        "# old results"
      ],
      "metadata": {
        "id": "1UsDy0VMHtE7"
      }
    },
    {
      "cell_type": "code",
      "source": [
        "import os  # Importing os to handle folder paths\n",
        "\n",
        "def results(y_test, prediction, save_folder=None):\n",
        "    # Calculate metrics\n",
        "    accuracy = 100 * accuracy_score(y_test, prediction)\n",
        "    rmse = mean_squared_error(y_test, prediction, squared=False)\n",
        "    mae = mean_absolute_error(y_test, prediction)\n",
        "    f1 = 100 * precision_recall_fscore_support(y_test, prediction, average='weighted')[2]  # Weighted F1 score\n",
        "    auc = 100 * roc_auc_score(y_test, prediction)\n",
        "\n",
        "    # Print metrics\n",
        "    print(f\"Accuracy: {accuracy:.2f}%\")\n",
        "    print(f\"RMSE: {rmse:.4f}\")\n",
        "    print(f\"MAE: {mae:.4f}\")\n",
        "    print(f\"F1 Score (Weighted): {f1:.2f}%\")\n",
        "    print(f\"AUC: {auc:.2f}%\")\n",
        "\n",
        "    # Generate the confusion matrix\n",
        "    cm = confusion_matrix(y_test, prediction)\n",
        "\n",
        "    # Plot the confusion matrix as a heatmap\n",
        "    plt.figure(figsize=(8, 6))\n",
        "    sns.heatmap(cm, annot=True, fmt='d', cmap='Blues', cbar=False, annot_kws={\"size\": 16})\n",
        "\n",
        "    # Add labels to the plot\n",
        "    plt.xlabel('Predicted Labels', fontsize=14)\n",
        "    plt.ylabel('True Labels', fontsize=14)\n",
        "    plt.title('Confusion Matrix', fontsize=16)\n",
        "\n",
        "    # Ensure the plot is displayed properly\n",
        "    plt.xticks(ticks=[0.5, 1.5], labels=['Normal (0)', 'Fraud (1)'], fontsize=12)\n",
        "    plt.yticks(ticks=[0.5, 1.5], labels=['Normal (0)', 'Fraud (1)'], fontsize=12, rotation=0)\n",
        "\n",
        "    # Save the confusion matrix plot as a PDF\n",
        "    if save_folder is not None:\n",
        "        if not os.path.exists(save_folder):\n",
        "            os.makedirs(save_folder)\n",
        "        cm_pdf_path = os.path.join(save_folder, 'confusion_matrix.pdf')\n",
        "        plt.savefig(cm_pdf_path, format='pdf')\n",
        "\n",
        "    plt.show()\n",
        "\n",
        "    # Bar plot for the metrics\n",
        "    metrics = ['Accuracy', 'RMSE', 'MAE', 'F1 Score', 'AUC']\n",
        "    values = [accuracy, rmse, mae, f1, auc]\n",
        "\n",
        "    plt.figure(figsize=(10, 6))\n",
        "    sns.barplot(x=metrics, y=values, palette='viridis')\n",
        "\n",
        "    # Add value labels on top of the bars\n",
        "    for i, value in enumerate(values):\n",
        "        plt.text(i, value + 1, f'{value:.2f}', ha='center', fontsize=12)\n",
        "\n",
        "    plt.title('Model Performance Metrics', fontsize=16)\n",
        "    plt.ylabel('Value', fontsize=14)\n",
        "    plt.ylim(0, max(values) + 5)  # Adjust ylim for better visualization\n",
        "\n",
        "    # Save the bar plot as a PDF\n",
        "    if save_folder is not None:\n",
        "        bar_pdf_path = os.path.join(save_folder, 'model_performance_metrics.pdf')\n",
        "        plt.savefig(bar_pdf_path, format='pdf')\n",
        "\n",
        "    plt.show()"
      ],
      "metadata": {
        "id": "dhIlno2LHCYK"
      },
      "execution_count": 26,
      "outputs": []
    },
    {
      "cell_type": "markdown",
      "source": [
        "# better looking result images"
      ],
      "metadata": {
        "id": "b--s0SiiHxYp"
      }
    },
    {
      "cell_type": "code",
      "source": [
        "import os\n",
        "import numpy as np\n",
        "import matplotlib.pyplot as plt\n",
        "import seaborn as sns\n",
        "import joblib\n",
        "from sklearn.metrics import (\n",
        "    accuracy_score, mean_squared_error, mean_absolute_error,\n",
        "    precision_recall_fscore_support, roc_auc_score, confusion_matrix, ConfusionMatrixDisplay, roc_curve\n",
        ")\n",
        "\n",
        "def results(y_test, prediction, history=None, model=None, model_name=None, save_folder=None):\n",
        "    # Compute metrics\n",
        "    accuracy = 100 * accuracy_score(y_test, prediction)\n",
        "    loss = history.history['loss'][-1] if history else None\n",
        "    rmse = mean_squared_error(y_test, prediction) ** 0.5\n",
        "    mae = mean_absolute_error(y_test, prediction)\n",
        "    f1 = 100 * precision_recall_fscore_support(y_test, prediction, average='weighted')[2]\n",
        "    auc = 100 * roc_auc_score(y_test, prediction)\n",
        "\n",
        "    print(f\"Accuracy: {accuracy:.2f}%\")\n",
        "    print(f\"Loss: {loss:.4f}\" if loss is not None else \"Loss: N/A\")\n",
        "    print(f\"RMSE: {rmse:.4f}\")\n",
        "    print(f\"MAE: {mae:.4f}\")\n",
        "    print(f\"F1 Score (Weighted): {f1:.2f}%\")\n",
        "    print(f\"AUC: {auc:.2f}%\")\n",
        "\n",
        "    if save_folder:\n",
        "        os.makedirs(save_folder, exist_ok=True)\n",
        "\n",
        "        # ➤ Save metrics to .txt\n",
        "        with open(os.path.join(save_folder, f\"{model_name}_metrics.txt\"), \"w\") as f:\n",
        "            f.write(f\"Accuracy: {accuracy:.2f}%\\n\")\n",
        "            f.write(f\"Loss: {loss:.4f}\\n\" if loss is not None else \"Loss: N/A\\n\")\n",
        "            f.write(f\"RMSE: {rmse:.4f}\\n\")\n",
        "            f.write(f\"MAE: {mae:.4f}\\n\")\n",
        "            f.write(f\"F1 Score: {f1:.2f}%\\n\")\n",
        "            f.write(f\"AUC: {auc:.2f}%\\n\\n\")\n",
        "            f.write(\"Classification Report:\\n\")\n",
        "            f.write(classification_report(y_test, prediction))\n",
        "\n",
        "        # ➤ Save the model appropriately\n",
        "        if model is not None:\n",
        "            try:\n",
        "                # Try saving Keras model\n",
        "                model.save(os.path.join(save_folder, f\"{model_name}.h5\"))\n",
        "            except AttributeError:\n",
        "                # Fall back to sklearn via joblib\n",
        "                joblib.dump(model, os.path.join(save_folder, f\"{model_name}.pkl\"))\n",
        "\n",
        "    # ➤ Confusion Matrix\n",
        "    cm = confusion_matrix(y_test, prediction)\n",
        "    disp = ConfusionMatrixDisplay(confusion_matrix=cm, display_labels=['Normal (0)', 'Fraud (1)'])\n",
        "    fig, ax = plt.subplots(figsize=(5, 4))\n",
        "    disp.plot(cmap='Blues', ax=ax, colorbar=True, values_format='.2f')\n",
        "    ax.set_title('Confusion Matrix', fontsize=14)\n",
        "    ax.set_xlabel('Predicted Label', fontsize=13)\n",
        "    ax.set_ylabel('True Label', fontsize=13)\n",
        "    plt.xticks(fontsize=11)\n",
        "    plt.yticks(fontsize=11)\n",
        "\n",
        "    if save_folder:\n",
        "        plt.savefig(os.path.join(save_folder, 'confusion_matrix.png'), dpi=150, bbox_inches='tight')\n",
        "    plt.show()\n",
        "\n",
        "    # ➤ Accuracy vs Epoch\n",
        "    if history:\n",
        "        plt.figure(figsize=(5, 4))\n",
        "        plt.plot(history.history['accuracy'], marker='o', color='green', label='Accuracy')\n",
        "        plt.xlabel('Epochs', fontsize=13)\n",
        "        plt.ylabel('Accuracy', fontsize=13)\n",
        "        plt.title('Accuracy vs Epoch', fontsize=14)\n",
        "        plt.grid(True)\n",
        "        plt.legend()\n",
        "        if save_folder:\n",
        "            plt.savefig(os.path.join(save_folder, 'accuracy_vs_epoch.png'), dpi=150, bbox_inches='tight')\n",
        "        plt.show()\n",
        "\n",
        "    # ➤ ROC Curve\n",
        "    fpr, tpr, _ = roc_curve(y_test, prediction)\n",
        "    plt.figure(figsize=(5, 4))\n",
        "    plt.plot(fpr, tpr, label=f'AUC = {auc:.2f}%', color='darkorange')\n",
        "    plt.plot([0, 1], [0, 1], linestyle='--', color='gray')\n",
        "    plt.xlabel('False Positive Rate', fontsize=13)\n",
        "    plt.ylabel('True Positive Rate', fontsize=13)\n",
        "    plt.title('ROC Curve', fontsize=14)\n",
        "    plt.grid(True)\n",
        "    plt.legend()\n",
        "    if save_folder:\n",
        "        plt.savefig(os.path.join(save_folder, 'roc_curve.png'), dpi=150, bbox_inches='tight')\n",
        "    plt.show()\n",
        "\n",
        "    # ➤ Bar Plot of All Metrics\n",
        "    metric_names = ['Accuracy', 'Loss', 'RMSE', 'MAE', 'F1 Score', 'AUC']\n",
        "    metric_vals = [accuracy, loss if loss else 0, rmse, mae, f1, auc]\n",
        "\n",
        "    plt.figure(figsize=(6, 4))\n",
        "    sns.barplot(x=metric_names, y=metric_vals, palette='crest')\n",
        "    for i, val in enumerate(metric_vals):\n",
        "        plt.text(i, val + 0.5, f'{val:.2f}', ha='center', fontsize=11)\n",
        "    plt.title('Evaluation Metrics', fontsize=14)\n",
        "    plt.ylabel('Value', fontsize=13)\n",
        "    plt.xticks(rotation=30, fontsize=11)\n",
        "    plt.grid(axis='y', linestyle='--', alpha=0.7)\n",
        "    if save_folder:\n",
        "        plt.savefig(os.path.join(save_folder, 'evaluation_metrics.png'), dpi=150, bbox_inches='tight')\n",
        "    plt.show()\n",
        "\n"
      ],
      "metadata": {
        "id": "Jqb4tyGXH0RF"
      },
      "execution_count": 51,
      "outputs": []
    },
    {
      "cell_type": "markdown",
      "source": [
        "# Main"
      ],
      "metadata": {
        "id": "iwPmovGKIfzF"
      }
    },
    {
      "cell_type": "code",
      "source": [
        "\n",
        "# ----Main----\n",
        "X_train, X_test, y_train, y_test = read_data()\n",
        "\n",
        "# Uncomment any model to test\n",
        "# ANN(X_train, X_test, y_train, y_test)\n",
        "# model = CNN1D(X_train, X_test, y_train, y_test)\n",
        "# model = CNN2D(X_train, X_test, y_train, y_test)\n",
        "# LR(X_train, X_test, y_train, y_test)\n",
        "# DT(X_train, X_test, y_train, y_test)\n",
        "# RF(X_train, X_test, y_train, y_test)\n",
        "model = XGB(X_train, X_test, y_train, y_test)\n",
        "# SVM(X_train, X_test, y_train, y_test)\n"
      ],
      "metadata": {
        "colab": {
          "base_uri": "https://localhost:8080/",
          "height": 1000
        },
        "id": "3TXNJV5_Im_A",
        "outputId": "1dc8b60e-8866-4b3e-c9a6-ad0713e7707c"
      },
      "execution_count": 53,
      "outputs": [
        {
          "output_type": "stream",
          "name": "stderr",
          "text": [
            "/tmp/ipython-input-9-1408516492.py:9: FutureWarning: Series.__getitem__ treating keys as positions is deprecated. In a future version, integer keys will always be treated as labels (consistent with DataFrame behavior). To access a value by position, use `ser.iloc[pos]`\n",
            "  print('Normal Consumers:                    ', y[y['FLAG'] == 0].count()[0])\n",
            "/tmp/ipython-input-9-1408516492.py:10: FutureWarning: Series.__getitem__ treating keys as positions is deprecated. In a future version, integer keys will always be treated as labels (consistent with DataFrame behavior). To access a value by position, use `ser.iloc[pos]`\n",
            "  print('Consumers with Fraud:                ', y[y['FLAG'] == 1].count()[0])\n",
            "/tmp/ipython-input-9-1408516492.py:12: FutureWarning: Series.__getitem__ treating keys as positions is deprecated. In a future version, integer keys will always be treated as labels (consistent with DataFrame behavior). To access a value by position, use `ser.iloc[pos]`\n",
            "  print(\"Classification assuming no fraud:     %.2f\" % (y[y['FLAG'] == 0].count()[0] / y.shape[0] * 100), \"%\")\n"
          ]
        },
        {
          "output_type": "stream",
          "name": "stdout",
          "text": [
            "Normal Consumers:                     36677\n",
            "Consumers with Fraud:                 36677\n",
            "Total Consumers:                      73354\n",
            "Classification assuming no fraud:     50.00 %\n",
            "Test set assuming no fraud:           49.39 %\n",
            "\n",
            "Accuracy: 92.15%\n",
            "Loss: N/A\n",
            "RMSE: 0.2802\n",
            "MAE: 0.0785\n",
            "F1 Score (Weighted): 92.14%\n",
            "AUC: 92.13%\n"
          ]
        },
        {
          "output_type": "display_data",
          "data": {
            "text/plain": [
              "<Figure size 500x400 with 2 Axes>"
            ],
            "image/png": "[encoded data removed]"
          },
          "metadata": {}
        },
        {
          "output_type": "display_data",
          "data": {
            "text/plain": [
              "<Figure size 500x400 with 1 Axes>"
            ],
            "image/png": "[encoded data removed]"
          },
          "metadata": {}
        },
        {
          "output_type": "stream",
          "name": "stderr",
          "text": [
            "/tmp/ipython-input-51-2665843336.py:97: FutureWarning: \n",
            "\n",
            "Passing `palette` without assigning `hue` is deprecated and will be removed in v0.14.0. Assign the `x` variable to `hue` and set `legend=False` for the same effect.\n",
            "\n",
            "  sns.barplot(x=metric_names, y=metric_vals, palette='crest')\n"
          ]
        },
        {
          "output_type": "display_data",
          "data": {
            "text/plain": [
              "<Figure size 600x400 with 1 Axes>"
            ],
            "image/png": "[encoded data removed]"
          },
          "metadata": {}
        }
      ]
    },
    {
      "cell_type": "markdown",
      "source": [
        "# New Section"
      ],
      "metadata": {
        "id": "iI6ezsFr0MJd"
      }
    },
    {
      "cell_type": "code",
      "source": [],
      "metadata": {
        "id": "20zjhQ410LMl"
      },
      "execution_count": null,
      "outputs": []
    }
  ]
}